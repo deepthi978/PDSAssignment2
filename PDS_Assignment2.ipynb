{
  "nbformat": 4,
  "nbformat_minor": 0,
  "metadata": {
    "colab": {
      "provenance": []
    },
    "kernelspec": {
      "name": "python3",
      "display_name": "Python 3"
    },
    "language_info": {
      "name": "python"
    }
  },
  "cells": [
    {
      "cell_type": "markdown",
      "source": [
        "##Loading the train dataset"
      ],
      "metadata": {
        "id": "bHCNLuz4701c"
      }
    },
    {
      "cell_type": "code",
      "source": [
        "import pandas as pd\n",
        "# Load the dataset\n",
        "df = pd.read_csv('train.csv')"
      ],
      "metadata": {
        "id": "MwbMRUfM73fY"
      },
      "execution_count": 1,
      "outputs": []
    },
    {
      "cell_type": "markdown",
      "source": [
        "##Identifying the missing values"
      ],
      "metadata": {
        "id": "I-iBy4xRGD2S"
      }
    },
    {
      "cell_type": "code",
      "source": [
        "# Identify missing values in each column\n",
        "missing_values = df.isnull().sum()\n",
        "print(\"Missing Values in Each Column:\")\n",
        "print(missing_values)"
      ],
      "metadata": {
        "colab": {
          "base_uri": "https://localhost:8080/"
        },
        "id": "Ju3EgJehFIIs",
        "outputId": "3351cf06-45e7-4b6c-8c7b-46fe5a772945"
      },
      "execution_count": 2,
      "outputs": [
        {
          "output_type": "stream",
          "name": "stdout",
          "text": [
            "Missing Values in Each Column:\n",
            "Unnamed: 0              0\n",
            "Name                    0\n",
            "Location                0\n",
            "Year                    0\n",
            "Kilometers_Driven       0\n",
            "Fuel_Type               0\n",
            "Transmission            0\n",
            "Owner_Type              0\n",
            "Mileage                 2\n",
            "Engine                 36\n",
            "Power                  36\n",
            "Seats                  38\n",
            "New_Price            5032\n",
            "Price                   0\n",
            "dtype: int64\n"
          ]
        }
      ]
    },
    {
      "cell_type": "markdown",
      "source": [
        "##Handling missing values"
      ],
      "metadata": {
        "id": "Zc76n_kWGSS_"
      }
    },
    {
      "cell_type": "code",
      "source": [
        "# Handle missing values by imputing with mean, median, or mode\n",
        "df['Mileage'] = df['Mileage'].apply(lambda x: float(str(x).split()[0]) if isinstance(x, str) else x)\n",
        "df['Engine'] = df['Engine'].apply(lambda x: float(str(x).split()[0]) if isinstance(x, str) else x)\n",
        "df['Power'] = df['Power'].apply(lambda x: float(str(x).split()[0]) if isinstance(x, str) else x)\n",
        "df['Seats'] = df['Seats'].apply(lambda x: float(x) if isinstance(x, str) else x)\n",
        "\n",
        "# Drop rows with remaining missing values\n",
        "df.dropna(subset=['New_Price'], inplace=True)"
      ],
      "metadata": {
        "id": "cbrWvu4OFLUg"
      },
      "execution_count": 3,
      "outputs": []
    },
    {
      "cell_type": "code",
      "source": [
        "# Remove units from attributes\n",
        "df['Mileage'] = df['Mileage'].apply(lambda x: float(str(x).split()[0]) if isinstance(x, str) else x)\n",
        "df['Engine'] = df['Engine'].apply(lambda x: float(str(x).split()[0]) if isinstance(x, str) else x)\n",
        "df['Power'] = df['Power'].apply(lambda x: float(str(x).split()[0]) if isinstance(x, str) else x)\n",
        "df['New_Price'] = df['New_Price'].apply(lambda x: float(str(x).split()[0]) if isinstance(x, str) else x)\n"
      ],
      "metadata": {
        "id": "jWTlzYj4FWsE"
      },
      "execution_count": 4,
      "outputs": []
    },
    {
      "cell_type": "markdown",
      "source": [
        "##Convert categorical variables into numerical"
      ],
      "metadata": {
        "id": "uQtZu0hjGn_K"
      }
    },
    {
      "cell_type": "code",
      "source": [
        "# Convert categorical variables into one-hot encoded values\n",
        "df = pd.get_dummies(df, columns=['Fuel_Type', 'Transmission'])\n"
      ],
      "metadata": {
        "id": "EUapMqzqFaGy"
      },
      "execution_count": 5,
      "outputs": []
    },
    {
      "cell_type": "markdown",
      "source": [
        "##Calculating the current age of the car by subtracting year value from the current year"
      ],
      "metadata": {
        "id": "S3iKVzyfG6fp"
      }
    },
    {
      "cell_type": "code",
      "source": [
        "# Calculate current year\n",
        "current_year = pd.to_datetime('today').year\n",
        "\n",
        "# Create a new column for car age\n",
        "df['Car_Age'] = current_year - df['Year']\n",
        "\n",
        "# Verify the changes\n",
        "print(df.head())"
      ],
      "metadata": {
        "colab": {
          "base_uri": "https://localhost:8080/"
        },
        "id": "IGDiLZz3Fcjr",
        "outputId": "de9dc20b-cb21-4904-ba74-791d2cdc6186"
      },
      "execution_count": 6,
      "outputs": [
        {
          "output_type": "stream",
          "name": "stdout",
          "text": [
            "    Unnamed: 0                               Name Location  Year  \\\n",
            "1            2                       Honda Jazz V  Chennai  2011   \n",
            "5            7  Toyota Innova Crysta 2.8 GX AT 8S   Mumbai  2016   \n",
            "8           10                   Maruti Ciaz Zeta    Kochi  2018   \n",
            "13          15        Mitsubishi Pajero Sport 4X4    Delhi  2014   \n",
            "18          20                  BMW 3 Series 320d    Kochi  2014   \n",
            "\n",
            "    Kilometers_Driven Owner_Type  Mileage  Engine   Power  Seats  New_Price  \\\n",
            "1               46000      First    13.00  1199.0   88.70    5.0       8.61   \n",
            "5               36000      First    11.36  2755.0  171.50    8.0      21.00   \n",
            "8               25692      First    21.56  1462.0  103.25    5.0      10.65   \n",
            "13             110000      First    13.50  2477.0  175.56    7.0      32.01   \n",
            "18              32982      First    22.69  1995.0  190.00    5.0      47.87   \n",
            "\n",
            "    Price  Fuel_Type_Diesel  Fuel_Type_Electric  Fuel_Type_Petrol  \\\n",
            "1    4.50                 0                   0                 1   \n",
            "5   17.50                 1                   0                 0   \n",
            "8    9.95                 0                   0                 1   \n",
            "13  15.00                 1                   0                 0   \n",
            "18  18.55                 1                   0                 0   \n",
            "\n",
            "    Transmission_Automatic  Transmission_Manual  Car_Age  \n",
            "1                        0                    1       12  \n",
            "5                        1                    0        7  \n",
            "8                        0                    1        5  \n",
            "13                       0                    1        9  \n",
            "18                       1                    0        9  \n"
          ]
        }
      ]
    }
  ]
}